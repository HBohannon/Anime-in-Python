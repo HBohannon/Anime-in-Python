{
 "cells": [
  {
   "cell_type": "markdown",
   "id": "317e1121-aaee-485d-aacc-3edd1572dbf8",
   "metadata": {},
   "source": [
    "Import Packages"
   ]
  },
  {
   "cell_type": "code",
   "execution_count": 2,
   "id": "43ef969f-d1e6-4e79-a49b-e2cce28a3da7",
   "metadata": {},
   "outputs": [],
   "source": [
    "import pandas as pd\n",
    "import numpy as np\n",
    "from scipy.stats import norm\n",
    "from scipy import stats\n",
    "from scipy.stats import ttest_ind\n",
    "import matplotlib\n",
    "import seaborn as sns"
   ]
  },
  {
   "cell_type": "markdown",
   "id": "2298426f-9094-4322-9750-f1c7d88ae8cd",
   "metadata": {},
   "source": [
    "Load Data"
   ]
  },
  {
   "cell_type": "code",
   "execution_count": 10,
   "id": "e4ee991d-ef29-41f0-a0a6-b74a97aaa6fa",
   "metadata": {},
   "outputs": [
    {
     "data": {
      "text/html": [
       "<div>\n",
       "<style scoped>\n",
       "    .dataframe tbody tr th:only-of-type {\n",
       "        vertical-align: middle;\n",
       "    }\n",
       "\n",
       "    .dataframe tbody tr th {\n",
       "        vertical-align: top;\n",
       "    }\n",
       "\n",
       "    .dataframe thead th {\n",
       "        text-align: right;\n",
       "    }\n",
       "</style>\n",
       "<table border=\"1\" class=\"dataframe\">\n",
       "  <thead>\n",
       "    <tr style=\"text-align: right;\">\n",
       "      <th></th>\n",
       "      <th>anime_id</th>\n",
       "      <th>title</th>\n",
       "      <th>title_english</th>\n",
       "      <th>title_japanese</th>\n",
       "      <th>title_synonyms</th>\n",
       "      <th>image_url</th>\n",
       "      <th>type</th>\n",
       "      <th>source</th>\n",
       "      <th>episodes</th>\n",
       "      <th>status</th>\n",
       "      <th>airing</th>\n",
       "      <th>aired_string</th>\n",
       "      <th>aired</th>\n",
       "      <th>duration</th>\n",
       "      <th>rating</th>\n",
       "      <th>score</th>\n",
       "      <th>scored_by</th>\n",
       "      <th>rank</th>\n",
       "      <th>popularity</th>\n",
       "      <th>members</th>\n",
       "      <th>favorites</th>\n",
       "      <th>background</th>\n",
       "      <th>premiered</th>\n",
       "      <th>broadcast</th>\n",
       "      <th>related</th>\n",
       "      <th>producer</th>\n",
       "      <th>licensor</th>\n",
       "      <th>studio</th>\n",
       "      <th>genre</th>\n",
       "      <th>opening_theme</th>\n",
       "      <th>ending_theme</th>\n",
       "      <th>duration_min</th>\n",
       "      <th>aired_from_year</th>\n",
       "    </tr>\n",
       "  </thead>\n",
       "  <tbody>\n",
       "    <tr>\n",
       "      <th>0</th>\n",
       "      <td>11013</td>\n",
       "      <td>Inu x Boku SS</td>\n",
       "      <td>Inu X Boku Secret Service</td>\n",
       "      <td>妖狐×僕SS</td>\n",
       "      <td>Youko x Boku SS</td>\n",
       "      <td>https://myanimelist.cdn-dena.com/images/anime/...</td>\n",
       "      <td>TV</td>\n",
       "      <td>Manga</td>\n",
       "      <td>12</td>\n",
       "      <td>Finished Airing</td>\n",
       "      <td>False</td>\n",
       "      <td>Jan 13, 2012 to Mar 30, 2012</td>\n",
       "      <td>{'from': '2012-01-13', 'to': '2012-03-30'}</td>\n",
       "      <td>24 min. per ep.</td>\n",
       "      <td>PG-13 - Teens 13 or older</td>\n",
       "      <td>7.63</td>\n",
       "      <td>139250</td>\n",
       "      <td>1274.0</td>\n",
       "      <td>231</td>\n",
       "      <td>283882</td>\n",
       "      <td>2809</td>\n",
       "      <td>Inu x Boku SS was licensed by Sentai Filmworks...</td>\n",
       "      <td>Winter 2012</td>\n",
       "      <td>Fridays at Unknown</td>\n",
       "      <td>{'Adaptation': [{'mal_id': 17207, 'type': 'man...</td>\n",
       "      <td>Aniplex, Square Enix, Mainichi Broadcasting Sy...</td>\n",
       "      <td>Sentai Filmworks</td>\n",
       "      <td>David Production</td>\n",
       "      <td>Comedy, Supernatural, Romance, Shounen</td>\n",
       "      <td>['\"Nirvana\" by MUCC']</td>\n",
       "      <td>['#1: \"Nirvana\" by MUCC (eps 1, 11-12)', '#2: ...</td>\n",
       "      <td>24.0</td>\n",
       "      <td>2012</td>\n",
       "    </tr>\n",
       "    <tr>\n",
       "      <th>1</th>\n",
       "      <td>2104</td>\n",
       "      <td>Seto no Hanayome</td>\n",
       "      <td>My Bride is a Mermaid</td>\n",
       "      <td>瀬戸の花嫁</td>\n",
       "      <td>The Inland Sea Bride</td>\n",
       "      <td>https://myanimelist.cdn-dena.com/images/anime/...</td>\n",
       "      <td>TV</td>\n",
       "      <td>Manga</td>\n",
       "      <td>26</td>\n",
       "      <td>Finished Airing</td>\n",
       "      <td>False</td>\n",
       "      <td>Apr 2, 2007 to Oct 1, 2007</td>\n",
       "      <td>{'from': '2007-04-02', 'to': '2007-10-01'}</td>\n",
       "      <td>24 min. per ep.</td>\n",
       "      <td>PG-13 - Teens 13 or older</td>\n",
       "      <td>7.89</td>\n",
       "      <td>91206</td>\n",
       "      <td>727.0</td>\n",
       "      <td>366</td>\n",
       "      <td>204003</td>\n",
       "      <td>2579</td>\n",
       "      <td>NaN</td>\n",
       "      <td>Spring 2007</td>\n",
       "      <td>Unknown</td>\n",
       "      <td>{'Adaptation': [{'mal_id': 759, 'type': 'manga...</td>\n",
       "      <td>TV Tokyo, AIC, Square Enix, Sotsu</td>\n",
       "      <td>Funimation</td>\n",
       "      <td>Gonzo</td>\n",
       "      <td>Comedy, Parody, Romance, School, Shounen</td>\n",
       "      <td>['\"Romantic summer\" by SUN&amp;LUNAR']</td>\n",
       "      <td>['#1: \"Ashita e no Hikari (明日への光)\" by Asuka Hi...</td>\n",
       "      <td>24.0</td>\n",
       "      <td>2007</td>\n",
       "    </tr>\n",
       "    <tr>\n",
       "      <th>2</th>\n",
       "      <td>5262</td>\n",
       "      <td>Shugo Chara!! Doki</td>\n",
       "      <td>Shugo Chara!! Doki</td>\n",
       "      <td>しゅごキャラ！！どきっ</td>\n",
       "      <td>Shugo Chara Ninenme, Shugo Chara! Second Year</td>\n",
       "      <td>https://myanimelist.cdn-dena.com/images/anime/...</td>\n",
       "      <td>TV</td>\n",
       "      <td>Manga</td>\n",
       "      <td>51</td>\n",
       "      <td>Finished Airing</td>\n",
       "      <td>False</td>\n",
       "      <td>Oct 4, 2008 to Sep 25, 2009</td>\n",
       "      <td>{'from': '2008-10-04', 'to': '2009-09-25'}</td>\n",
       "      <td>24 min. per ep.</td>\n",
       "      <td>PG - Children</td>\n",
       "      <td>7.55</td>\n",
       "      <td>37129</td>\n",
       "      <td>1508.0</td>\n",
       "      <td>1173</td>\n",
       "      <td>70127</td>\n",
       "      <td>802</td>\n",
       "      <td>NaN</td>\n",
       "      <td>Fall 2008</td>\n",
       "      <td>Unknown</td>\n",
       "      <td>{'Adaptation': [{'mal_id': 101, 'type': 'manga...</td>\n",
       "      <td>TV Tokyo, Sotsu</td>\n",
       "      <td>NaN</td>\n",
       "      <td>Satelight</td>\n",
       "      <td>Comedy, Magic, School, Shoujo</td>\n",
       "      <td>['#1: \"Minna no Tamago (みんなのたまご)\" by Shugo Cha...</td>\n",
       "      <td>['#1: \"Rottara Rottara (ロッタラ ロッタラ)\" by Buono! ...</td>\n",
       "      <td>24.0</td>\n",
       "      <td>2008</td>\n",
       "    </tr>\n",
       "    <tr>\n",
       "      <th>3</th>\n",
       "      <td>721</td>\n",
       "      <td>Princess Tutu</td>\n",
       "      <td>Princess Tutu</td>\n",
       "      <td>プリンセスチュチュ</td>\n",
       "      <td>NaN</td>\n",
       "      <td>https://myanimelist.cdn-dena.com/images/anime/...</td>\n",
       "      <td>TV</td>\n",
       "      <td>Original</td>\n",
       "      <td>38</td>\n",
       "      <td>Finished Airing</td>\n",
       "      <td>False</td>\n",
       "      <td>Aug 16, 2002 to May 23, 2003</td>\n",
       "      <td>{'from': '2002-08-16', 'to': '2003-05-23'}</td>\n",
       "      <td>16 min. per ep.</td>\n",
       "      <td>PG-13 - Teens 13 or older</td>\n",
       "      <td>8.21</td>\n",
       "      <td>36501</td>\n",
       "      <td>307.0</td>\n",
       "      <td>916</td>\n",
       "      <td>93312</td>\n",
       "      <td>3344</td>\n",
       "      <td>Princess Tutu aired in two parts. The first pa...</td>\n",
       "      <td>Summer 2002</td>\n",
       "      <td>Fridays at Unknown</td>\n",
       "      <td>{'Adaptation': [{'mal_id': 1581, 'type': 'mang...</td>\n",
       "      <td>Memory-Tech, GANSIS, Marvelous AQL</td>\n",
       "      <td>ADV Films</td>\n",
       "      <td>Hal Film Maker</td>\n",
       "      <td>Comedy, Drama, Magic, Romance, Fantasy</td>\n",
       "      <td>['\"Morning Grace\" by Ritsuko Okazaki']</td>\n",
       "      <td>['\"Watashi No Ai Wa Chiisaikeredo\" by Ritsuko ...</td>\n",
       "      <td>16.0</td>\n",
       "      <td>2002</td>\n",
       "    </tr>\n",
       "    <tr>\n",
       "      <th>4</th>\n",
       "      <td>12365</td>\n",
       "      <td>Bakuman. 3rd Season</td>\n",
       "      <td>Bakuman.</td>\n",
       "      <td>バクマン。</td>\n",
       "      <td>Bakuman Season 3</td>\n",
       "      <td>https://myanimelist.cdn-dena.com/images/anime/...</td>\n",
       "      <td>TV</td>\n",
       "      <td>Manga</td>\n",
       "      <td>25</td>\n",
       "      <td>Finished Airing</td>\n",
       "      <td>False</td>\n",
       "      <td>Oct 6, 2012 to Mar 30, 2013</td>\n",
       "      <td>{'from': '2012-10-06', 'to': '2013-03-30'}</td>\n",
       "      <td>24 min. per ep.</td>\n",
       "      <td>PG-13 - Teens 13 or older</td>\n",
       "      <td>8.67</td>\n",
       "      <td>107767</td>\n",
       "      <td>50.0</td>\n",
       "      <td>426</td>\n",
       "      <td>182765</td>\n",
       "      <td>2082</td>\n",
       "      <td>NaN</td>\n",
       "      <td>Fall 2012</td>\n",
       "      <td>Unknown</td>\n",
       "      <td>{'Adaptation': [{'mal_id': 9711, 'type': 'mang...</td>\n",
       "      <td>NHK, Shueisha</td>\n",
       "      <td>NaN</td>\n",
       "      <td>J.C.Staff</td>\n",
       "      <td>Comedy, Drama, Romance, Shounen</td>\n",
       "      <td>['#1: \"Moshimo no Hanashi (もしもの話)\" by nano.RIP...</td>\n",
       "      <td>['#1: \"Pride on Everyday\" by Sphere (eps 1-13)...</td>\n",
       "      <td>24.0</td>\n",
       "      <td>2012</td>\n",
       "    </tr>\n",
       "  </tbody>\n",
       "</table>\n",
       "</div>"
      ],
      "text/plain": [
       "   anime_id                title              title_english title_japanese  \\\n",
       "0     11013        Inu x Boku SS  Inu X Boku Secret Service         妖狐×僕SS   \n",
       "1      2104     Seto no Hanayome      My Bride is a Mermaid          瀬戸の花嫁   \n",
       "2      5262   Shugo Chara!! Doki         Shugo Chara!! Doki    しゅごキャラ！！どきっ   \n",
       "3       721        Princess Tutu              Princess Tutu      プリンセスチュチュ   \n",
       "4     12365  Bakuman. 3rd Season                   Bakuman.          バクマン。   \n",
       "\n",
       "                                  title_synonyms  \\\n",
       "0                                Youko x Boku SS   \n",
       "1                           The Inland Sea Bride   \n",
       "2  Shugo Chara Ninenme, Shugo Chara! Second Year   \n",
       "3                                            NaN   \n",
       "4                               Bakuman Season 3   \n",
       "\n",
       "                                           image_url type    source  episodes  \\\n",
       "0  https://myanimelist.cdn-dena.com/images/anime/...   TV     Manga        12   \n",
       "1  https://myanimelist.cdn-dena.com/images/anime/...   TV     Manga        26   \n",
       "2  https://myanimelist.cdn-dena.com/images/anime/...   TV     Manga        51   \n",
       "3  https://myanimelist.cdn-dena.com/images/anime/...   TV  Original        38   \n",
       "4  https://myanimelist.cdn-dena.com/images/anime/...   TV     Manga        25   \n",
       "\n",
       "            status  airing                  aired_string  \\\n",
       "0  Finished Airing   False  Jan 13, 2012 to Mar 30, 2012   \n",
       "1  Finished Airing   False    Apr 2, 2007 to Oct 1, 2007   \n",
       "2  Finished Airing   False   Oct 4, 2008 to Sep 25, 2009   \n",
       "3  Finished Airing   False  Aug 16, 2002 to May 23, 2003   \n",
       "4  Finished Airing   False   Oct 6, 2012 to Mar 30, 2013   \n",
       "\n",
       "                                        aired         duration  \\\n",
       "0  {'from': '2012-01-13', 'to': '2012-03-30'}  24 min. per ep.   \n",
       "1  {'from': '2007-04-02', 'to': '2007-10-01'}  24 min. per ep.   \n",
       "2  {'from': '2008-10-04', 'to': '2009-09-25'}  24 min. per ep.   \n",
       "3  {'from': '2002-08-16', 'to': '2003-05-23'}  16 min. per ep.   \n",
       "4  {'from': '2012-10-06', 'to': '2013-03-30'}  24 min. per ep.   \n",
       "\n",
       "                      rating  score  scored_by    rank  popularity  members  \\\n",
       "0  PG-13 - Teens 13 or older   7.63     139250  1274.0         231   283882   \n",
       "1  PG-13 - Teens 13 or older   7.89      91206   727.0         366   204003   \n",
       "2              PG - Children   7.55      37129  1508.0        1173    70127   \n",
       "3  PG-13 - Teens 13 or older   8.21      36501   307.0         916    93312   \n",
       "4  PG-13 - Teens 13 or older   8.67     107767    50.0         426   182765   \n",
       "\n",
       "   favorites                                         background    premiered  \\\n",
       "0       2809  Inu x Boku SS was licensed by Sentai Filmworks...  Winter 2012   \n",
       "1       2579                                                NaN  Spring 2007   \n",
       "2        802                                                NaN    Fall 2008   \n",
       "3       3344  Princess Tutu aired in two parts. The first pa...  Summer 2002   \n",
       "4       2082                                                NaN    Fall 2012   \n",
       "\n",
       "            broadcast                                            related  \\\n",
       "0  Fridays at Unknown  {'Adaptation': [{'mal_id': 17207, 'type': 'man...   \n",
       "1             Unknown  {'Adaptation': [{'mal_id': 759, 'type': 'manga...   \n",
       "2             Unknown  {'Adaptation': [{'mal_id': 101, 'type': 'manga...   \n",
       "3  Fridays at Unknown  {'Adaptation': [{'mal_id': 1581, 'type': 'mang...   \n",
       "4             Unknown  {'Adaptation': [{'mal_id': 9711, 'type': 'mang...   \n",
       "\n",
       "                                            producer          licensor  \\\n",
       "0  Aniplex, Square Enix, Mainichi Broadcasting Sy...  Sentai Filmworks   \n",
       "1                  TV Tokyo, AIC, Square Enix, Sotsu        Funimation   \n",
       "2                                    TV Tokyo, Sotsu               NaN   \n",
       "3                 Memory-Tech, GANSIS, Marvelous AQL         ADV Films   \n",
       "4                                      NHK, Shueisha               NaN   \n",
       "\n",
       "             studio                                     genre  \\\n",
       "0  David Production    Comedy, Supernatural, Romance, Shounen   \n",
       "1             Gonzo  Comedy, Parody, Romance, School, Shounen   \n",
       "2         Satelight             Comedy, Magic, School, Shoujo   \n",
       "3    Hal Film Maker    Comedy, Drama, Magic, Romance, Fantasy   \n",
       "4         J.C.Staff           Comedy, Drama, Romance, Shounen   \n",
       "\n",
       "                                       opening_theme  \\\n",
       "0                              ['\"Nirvana\" by MUCC']   \n",
       "1                 ['\"Romantic summer\" by SUN&LUNAR']   \n",
       "2  ['#1: \"Minna no Tamago (みんなのたまご)\" by Shugo Cha...   \n",
       "3             ['\"Morning Grace\" by Ritsuko Okazaki']   \n",
       "4  ['#1: \"Moshimo no Hanashi (もしもの話)\" by nano.RIP...   \n",
       "\n",
       "                                        ending_theme  duration_min  \\\n",
       "0  ['#1: \"Nirvana\" by MUCC (eps 1, 11-12)', '#2: ...          24.0   \n",
       "1  ['#1: \"Ashita e no Hikari (明日への光)\" by Asuka Hi...          24.0   \n",
       "2  ['#1: \"Rottara Rottara (ロッタラ ロッタラ)\" by Buono! ...          24.0   \n",
       "3  ['\"Watashi No Ai Wa Chiisaikeredo\" by Ritsuko ...          16.0   \n",
       "4  ['#1: \"Pride on Everyday\" by Sphere (eps 1-13)...          24.0   \n",
       "\n",
       "   aired_from_year  \n",
       "0             2012  \n",
       "1             2007  \n",
       "2             2008  \n",
       "3             2002  \n",
       "4             2012  "
      ]
     },
     "execution_count": 10,
     "metadata": {},
     "output_type": "execute_result"
    }
   ],
   "source": [
    "anime = pd.read_csv (r'C:/Users/Hanna Bohannon/Documents/DSO105C/DSO105C Datasets/anime.csv')\n",
    "anime.head()"
   ]
  },
  {
   "cell_type": "markdown",
   "id": "0532796d-e19a-463b-9261-bc21472675f8",
   "metadata": {},
   "source": [
    "Data Wrangling"
   ]
  },
  {
   "cell_type": "code",
   "execution_count": 4,
   "id": "2f3bfa37-64af-4ca2-876a-97a18cdf97be",
   "metadata": {},
   "outputs": [],
   "source": [
    "anime.dropna(inplace = True)"
   ]
  },
  {
   "cell_type": "markdown",
   "id": "6f7a47c1-1f93-4705-9bbe-526727faf43a",
   "metadata": {},
   "source": [
    "Single Sample t-Test"
   ]
  },
  {
   "cell_type": "markdown",
   "id": "1824aabb-ddfa-4acf-b5b1-b27d886ce326",
   "metadata": {},
   "source": [
    "Is a Rating Score of 6.2 Different from the Mean in this Dataset?"
   ]
  },
  {
   "cell_type": "markdown",
   "id": "226900b4-a1b4-4b68-9799-91a7fd94d0f5",
   "metadata": {},
   "source": [
    "Test Assumption: Normal Distribution"
   ]
  },
  {
   "cell_type": "code",
   "execution_count": 5,
   "id": "b8746790-7049-41d1-9a30-396e07d515b5",
   "metadata": {},
   "outputs": [
    {
     "data": {
      "text/plain": [
       "<AxesSubplot:>"
      ]
     },
     "execution_count": 5,
     "metadata": {},
     "output_type": "execute_result"
    },
    {
     "data": {
      "image/png": "[encoded data removed]",
      "text/plain": [
       "<Figure size 432x288 with 1 Axes>"
      ]
     },
     "metadata": {
      "needs_background": "light"
     },
     "output_type": "display_data"
    }
   ],
   "source": [
    "anime['score'].hist()"
   ]
  },
  {
   "cell_type": "markdown",
   "id": "25664790-ecb8-4fe4-9bbe-0324d4e034a1",
   "metadata": {},
   "source": [
    "Run the Analysis"
   ]
  },
  {
   "cell_type": "code",
   "execution_count": 6,
   "id": "b50c0229-b4ab-4d4e-b90d-00fe5f6bd226",
   "metadata": {},
   "outputs": [
    {
     "data": {
      "text/plain": [
       "Ttest_1sampResult(statistic=39.40626105964426, pvalue=1.7928730897960434e-116)"
      ]
     },
     "execution_count": 6,
     "metadata": {},
     "output_type": "execute_result"
    }
   ],
   "source": [
    "stats.ttest_1samp(anime['score'],6.2)"
   ]
  },
  {
   "cell_type": "code",
   "execution_count": 7,
   "id": "db9c3a93-1894-499f-93f9-a27793074d76",
   "metadata": {},
   "outputs": [
    {
     "data": {
      "text/plain": [
       "7.659645390070922"
      ]
     },
     "execution_count": 7,
     "metadata": {},
     "output_type": "execute_result"
    }
   ],
   "source": [
    "anime.score.mean()"
   ]
  },
  {
   "cell_type": "markdown",
   "id": "831d1124-f3ec-4f0e-9f31-78398810465f",
   "metadata": {},
   "source": [
    "Independent t-Test"
   ]
  },
  {
   "cell_type": "markdown",
   "id": "e072bcf8-046d-4125-9733-bc7142f456e2",
   "metadata": {},
   "source": [
    "Does Anime that is Still Airing Differ in Popularity from Anime that is No Longer Airing?"
   ]
  },
  {
   "cell_type": "markdown",
   "id": "a9b9c485-8c1e-45fb-b458-0a819801a187",
   "metadata": {},
   "source": [
    "Test Assumption: Normal Distribution"
   ]
  },
  {
   "cell_type": "code",
   "execution_count": 8,
   "id": "53bbb599-9919-433f-839e-bb5cd0d5cd0b",
   "metadata": {},
   "outputs": [],
   "source": [
    "pd.set_option(\"display.max_columns\",None)"
   ]
  },
  {
   "cell_type": "code",
   "execution_count": 20,
   "id": "1fcf34e3-9b20-4a9b-a483-eccc8543fa69",
   "metadata": {},
   "outputs": [
    {
     "data": {
      "text/plain": [
       "<AxesSubplot:>"
      ]
     },
     "execution_count": 20,
     "metadata": {},
     "output_type": "execute_result"
    },
    {
     "data": {
      "image/png": "[encoded data removed]",
      "text/plain": [
       "<Figure size 432x288 with 1 Axes>"
      ]
     },
     "metadata": {
      "needs_background": "light"
     },
     "output_type": "display_data"
    }
   ],
   "source": [
    "anime.status.hist()"
   ]
  },
  {
   "cell_type": "code",
   "execution_count": 21,
   "id": "cbe7a59f-2972-4b33-932d-ee59db012b17",
   "metadata": {},
   "outputs": [
    {
     "data": {
      "text/plain": [
       "<AxesSubplot:>"
      ]
     },
     "execution_count": 21,
     "metadata": {},
     "output_type": "execute_result"
    },
    {
     "data": {
      "image/png": "[encoded data removed]",
      "text/plain": [
       "<Figure size 432x288 with 1 Axes>"
      ]
     },
     "metadata": {
      "needs_background": "light"
     },
     "output_type": "display_data"
    }
   ],
   "source": [
    "anime.popularity.hist()"
   ]
  },
  {
   "cell_type": "markdown",
   "id": "1294b0d0-08f1-4b77-97f2-038ecf73a5c8",
   "metadata": {},
   "source": [
    "Run the Analysis"
   ]
  },
  {
   "cell_type": "code",
   "execution_count": 26,
   "id": "9fa503af-382c-4b6f-bf8b-6f6424be39ea",
   "metadata": {},
   "outputs": [
    {
     "data": {
      "text/plain": [
       "Ttest_indResult(statistic=nan, pvalue=nan)"
      ]
     },
     "execution_count": 26,
     "metadata": {},
     "output_type": "execute_result"
    }
   ],
   "source": [
    "ttest_ind(anime.status[anime.popularity == 'C'], anime.status[anime.popularity == 'F'])"
   ]
  },
  {
   "cell_type": "markdown",
   "id": "27aa778e-6334-4962-9864-6fada03306e6",
   "metadata": {},
   "source": [
    "Independent Chi-Square"
   ]
  },
  {
   "cell_type": "markdown",
   "id": "7e96df42-e4bc-4414-95df-f1d07c6c4444",
   "metadata": {},
   "source": [
    "Create a Contingency Table"
   ]
  },
  {
   "cell_type": "code",
   "execution_count": 15,
   "id": "df110141-718c-402a-a7ae-51e944a93fc2",
   "metadata": {},
   "outputs": [],
   "source": [
    "anime_crosstab = pd.crosstab(anime['status'], anime['popularity'])"
   ]
  },
  {
   "cell_type": "code",
   "execution_count": 16,
   "id": "e2809999-a5c9-42be-b624-ef359ab7d33a",
   "metadata": {},
   "outputs": [
    {
     "data": {
      "text/plain": [
       "(5631.457890915424,\n",
       " 0.9819490167318295,\n",
       " 5856,\n",
       " array([[0.02744451, 0.02744451, 0.02744451, ..., 0.02744451, 0.02744451,\n",
       "         0.02744451],\n",
       "        [0.97255549, 0.97255549, 0.97255549, ..., 0.97255549, 0.97255549,\n",
       "         0.97255549]]))"
      ]
     },
     "execution_count": 16,
     "metadata": {},
     "output_type": "execute_result"
    }
   ],
   "source": [
    "stats.chi2_contingency(anime_crosstab)"
   ]
  },
  {
   "cell_type": "markdown",
   "id": "2e873732-d7b8-4fda-b6f5-bd0a925984ee",
   "metadata": {},
   "source": [
    "Correlation"
   ]
  },
  {
   "cell_type": "code",
   "execution_count": 12,
   "id": "8225d808-420c-43b0-92cc-44fbda7197be",
   "metadata": {},
   "outputs": [
    {
     "data": {
      "text/plain": [
       "0.7773024303272644"
      ]
     },
     "execution_count": 12,
     "metadata": {},
     "output_type": "execute_result"
    }
   ],
   "source": [
    "anime['popularity'].corr(anime['rank'])"
   ]
  },
  {
   "cell_type": "code",
   "execution_count": 13,
   "id": "3ccfeda6-2c45-4eb1-ba6e-d3fdbf146d12",
   "metadata": {},
   "outputs": [
    {
     "data": {
      "text/html": [
       "<div>\n",
       "<style scoped>\n",
       "    .dataframe tbody tr th:only-of-type {\n",
       "        vertical-align: middle;\n",
       "    }\n",
       "\n",
       "    .dataframe tbody tr th {\n",
       "        vertical-align: top;\n",
       "    }\n",
       "\n",
       "    .dataframe thead th {\n",
       "        text-align: right;\n",
       "    }\n",
       "</style>\n",
       "<table border=\"1\" class=\"dataframe\">\n",
       "  <thead>\n",
       "    <tr style=\"text-align: right;\">\n",
       "      <th></th>\n",
       "      <th>anime_id</th>\n",
       "      <th>episodes</th>\n",
       "      <th>airing</th>\n",
       "      <th>score</th>\n",
       "      <th>scored_by</th>\n",
       "      <th>rank</th>\n",
       "      <th>popularity</th>\n",
       "      <th>members</th>\n",
       "      <th>favorites</th>\n",
       "      <th>duration_min</th>\n",
       "      <th>aired_from_year</th>\n",
       "    </tr>\n",
       "  </thead>\n",
       "  <tbody>\n",
       "    <tr>\n",
       "      <th>anime_id</th>\n",
       "      <td>1.000000</td>\n",
       "      <td>-0.109610</td>\n",
       "      <td>0.223734</td>\n",
       "      <td>-0.223733</td>\n",
       "      <td>-0.046057</td>\n",
       "      <td>0.274671</td>\n",
       "      <td>0.205813</td>\n",
       "      <td>-0.032301</td>\n",
       "      <td>-0.054066</td>\n",
       "      <td>-0.205838</td>\n",
       "      <td>0.623290</td>\n",
       "    </tr>\n",
       "    <tr>\n",
       "      <th>episodes</th>\n",
       "      <td>-0.109610</td>\n",
       "      <td>1.000000</td>\n",
       "      <td>-0.037289</td>\n",
       "      <td>0.076875</td>\n",
       "      <td>0.068544</td>\n",
       "      <td>-0.049064</td>\n",
       "      <td>-0.009545</td>\n",
       "      <td>0.079572</td>\n",
       "      <td>0.106804</td>\n",
       "      <td>-0.105711</td>\n",
       "      <td>-0.147920</td>\n",
       "    </tr>\n",
       "    <tr>\n",
       "      <th>airing</th>\n",
       "      <td>0.223734</td>\n",
       "      <td>-0.037289</td>\n",
       "      <td>1.000000</td>\n",
       "      <td>-0.066910</td>\n",
       "      <td>-0.046482</td>\n",
       "      <td>0.100467</td>\n",
       "      <td>0.079229</td>\n",
       "      <td>-0.030711</td>\n",
       "      <td>-0.004717</td>\n",
       "      <td>-0.086957</td>\n",
       "      <td>0.142681</td>\n",
       "    </tr>\n",
       "    <tr>\n",
       "      <th>score</th>\n",
       "      <td>-0.223733</td>\n",
       "      <td>0.076875</td>\n",
       "      <td>-0.066910</td>\n",
       "      <td>1.000000</td>\n",
       "      <td>0.381926</td>\n",
       "      <td>-0.898747</td>\n",
       "      <td>-0.688492</td>\n",
       "      <td>0.415626</td>\n",
       "      <td>0.256094</td>\n",
       "      <td>0.298989</td>\n",
       "      <td>0.042159</td>\n",
       "    </tr>\n",
       "    <tr>\n",
       "      <th>scored_by</th>\n",
       "      <td>-0.046057</td>\n",
       "      <td>0.068544</td>\n",
       "      <td>-0.046482</td>\n",
       "      <td>0.381926</td>\n",
       "      <td>1.000000</td>\n",
       "      <td>-0.356686</td>\n",
       "      <td>-0.425719</td>\n",
       "      <td>0.987107</td>\n",
       "      <td>0.793949</td>\n",
       "      <td>0.046203</td>\n",
       "      <td>0.110892</td>\n",
       "    </tr>\n",
       "    <tr>\n",
       "      <th>rank</th>\n",
       "      <td>0.274671</td>\n",
       "      <td>-0.049064</td>\n",
       "      <td>0.100467</td>\n",
       "      <td>-0.898747</td>\n",
       "      <td>-0.356686</td>\n",
       "      <td>1.000000</td>\n",
       "      <td>0.777302</td>\n",
       "      <td>-0.391524</td>\n",
       "      <td>-0.208503</td>\n",
       "      <td>-0.294528</td>\n",
       "      <td>-0.063543</td>\n",
       "    </tr>\n",
       "    <tr>\n",
       "      <th>popularity</th>\n",
       "      <td>0.205813</td>\n",
       "      <td>-0.009545</td>\n",
       "      <td>0.079229</td>\n",
       "      <td>-0.688492</td>\n",
       "      <td>-0.425719</td>\n",
       "      <td>0.777302</td>\n",
       "      <td>1.000000</td>\n",
       "      <td>-0.474798</td>\n",
       "      <td>-0.210745</td>\n",
       "      <td>-0.159596</td>\n",
       "      <td>-0.236951</td>\n",
       "    </tr>\n",
       "    <tr>\n",
       "      <th>members</th>\n",
       "      <td>-0.032301</td>\n",
       "      <td>0.079572</td>\n",
       "      <td>-0.030711</td>\n",
       "      <td>0.415626</td>\n",
       "      <td>0.987107</td>\n",
       "      <td>-0.391524</td>\n",
       "      <td>-0.474798</td>\n",
       "      <td>1.000000</td>\n",
       "      <td>0.781565</td>\n",
       "      <td>0.039457</td>\n",
       "      <td>0.135725</td>\n",
       "    </tr>\n",
       "    <tr>\n",
       "      <th>favorites</th>\n",
       "      <td>-0.054066</td>\n",
       "      <td>0.106804</td>\n",
       "      <td>-0.004717</td>\n",
       "      <td>0.256094</td>\n",
       "      <td>0.793949</td>\n",
       "      <td>-0.208503</td>\n",
       "      <td>-0.210745</td>\n",
       "      <td>0.781565</td>\n",
       "      <td>1.000000</td>\n",
       "      <td>0.002669</td>\n",
       "      <td>0.031254</td>\n",
       "    </tr>\n",
       "    <tr>\n",
       "      <th>duration_min</th>\n",
       "      <td>-0.205838</td>\n",
       "      <td>-0.105711</td>\n",
       "      <td>-0.086957</td>\n",
       "      <td>0.298989</td>\n",
       "      <td>0.046203</td>\n",
       "      <td>-0.294528</td>\n",
       "      <td>-0.159596</td>\n",
       "      <td>0.039457</td>\n",
       "      <td>0.002669</td>\n",
       "      <td>1.000000</td>\n",
       "      <td>-0.183812</td>\n",
       "    </tr>\n",
       "    <tr>\n",
       "      <th>aired_from_year</th>\n",
       "      <td>0.623290</td>\n",
       "      <td>-0.147920</td>\n",
       "      <td>0.142681</td>\n",
       "      <td>0.042159</td>\n",
       "      <td>0.110892</td>\n",
       "      <td>-0.063543</td>\n",
       "      <td>-0.236951</td>\n",
       "      <td>0.135725</td>\n",
       "      <td>0.031254</td>\n",
       "      <td>-0.183812</td>\n",
       "      <td>1.000000</td>\n",
       "    </tr>\n",
       "  </tbody>\n",
       "</table>\n",
       "</div>"
      ],
      "text/plain": [
       "                 anime_id  episodes    airing     score  scored_by      rank  \\\n",
       "anime_id         1.000000 -0.109610  0.223734 -0.223733  -0.046057  0.274671   \n",
       "episodes        -0.109610  1.000000 -0.037289  0.076875   0.068544 -0.049064   \n",
       "airing           0.223734 -0.037289  1.000000 -0.066910  -0.046482  0.100467   \n",
       "score           -0.223733  0.076875 -0.066910  1.000000   0.381926 -0.898747   \n",
       "scored_by       -0.046057  0.068544 -0.046482  0.381926   1.000000 -0.356686   \n",
       "rank             0.274671 -0.049064  0.100467 -0.898747  -0.356686  1.000000   \n",
       "popularity       0.205813 -0.009545  0.079229 -0.688492  -0.425719  0.777302   \n",
       "members         -0.032301  0.079572 -0.030711  0.415626   0.987107 -0.391524   \n",
       "favorites       -0.054066  0.106804 -0.004717  0.256094   0.793949 -0.208503   \n",
       "duration_min    -0.205838 -0.105711 -0.086957  0.298989   0.046203 -0.294528   \n",
       "aired_from_year  0.623290 -0.147920  0.142681  0.042159   0.110892 -0.063543   \n",
       "\n",
       "                 popularity   members  favorites  duration_min  \\\n",
       "anime_id           0.205813 -0.032301  -0.054066     -0.205838   \n",
       "episodes          -0.009545  0.079572   0.106804     -0.105711   \n",
       "airing             0.079229 -0.030711  -0.004717     -0.086957   \n",
       "score             -0.688492  0.415626   0.256094      0.298989   \n",
       "scored_by         -0.425719  0.987107   0.793949      0.046203   \n",
       "rank               0.777302 -0.391524  -0.208503     -0.294528   \n",
       "popularity         1.000000 -0.474798  -0.210745     -0.159596   \n",
       "members           -0.474798  1.000000   0.781565      0.039457   \n",
       "favorites         -0.210745  0.781565   1.000000      0.002669   \n",
       "duration_min      -0.159596  0.039457   0.002669      1.000000   \n",
       "aired_from_year   -0.236951  0.135725   0.031254     -0.183812   \n",
       "\n",
       "                 aired_from_year  \n",
       "anime_id                0.623290  \n",
       "episodes               -0.147920  \n",
       "airing                  0.142681  \n",
       "score                   0.042159  \n",
       "scored_by               0.110892  \n",
       "rank                   -0.063543  \n",
       "popularity             -0.236951  \n",
       "members                 0.135725  \n",
       "favorites               0.031254  \n",
       "duration_min           -0.183812  \n",
       "aired_from_year         1.000000  "
      ]
     },
     "execution_count": 13,
     "metadata": {},
     "output_type": "execute_result"
    }
   ],
   "source": [
    "anime.corr(method='pearson')"
   ]
  },
  {
   "cell_type": "markdown",
   "id": "320cb037-881e-4d40-9880-57ab5db26f70",
   "metadata": {},
   "source": [
    "Use sns.heatmap()"
   ]
  },
  {
   "cell_type": "code",
   "execution_count": 14,
   "id": "ca5f2ac7-d902-4275-87b0-02eea41f989d",
   "metadata": {},
   "outputs": [
    {
     "data": {
      "text/plain": [
       "<AxesSubplot:>"
      ]
     },
     "execution_count": 14,
     "metadata": {},
     "output_type": "execute_result"
    },
    {
     "data": {
      "image/png": "[encoded data removed]",
      "text/plain": [
       "<Figure size 432x288 with 2 Axes>"
      ]
     },
     "metadata": {
      "needs_background": "light"
     },
     "output_type": "display_data"
    }
   ],
   "source": [
    "sns.heatmap(anime.corr(), annot=True)"
   ]
  },
  {
   "cell_type": "code",
   "execution_count": null,
   "id": "fab71c90-15fa-4278-a820-c62ba00ba1f7",
   "metadata": {},
   "outputs": [],
   "source": []
  }
 ],
 "metadata": {
  "kernelspec": {
   "display_name": "Python 3 (ipykernel)",
   "language": "python",
   "name": "python3"
  },
  "language_info": {
   "codemirror_mode": {
    "name": "ipython",
    "version": 3
   },
   "file_extension": ".py",
   "mimetype": "text/x-python",
   "name": "python",
   "nbconvert_exporter": "python",
   "pygments_lexer": "ipython3",
   "version": "3.10.4"
  }
 },
 "nbformat": 4,
 "nbformat_minor": 5
}
